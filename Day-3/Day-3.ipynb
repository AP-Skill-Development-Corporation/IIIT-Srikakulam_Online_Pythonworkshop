{
 "cells": [
  {
   "cell_type": "code",
   "execution_count": null,
   "metadata": {},
   "outputs": [],
   "source": [
    "from getpass import getpass\n",
    "username=input('Enter Your User Name:')\n",
    "pwd=getpass('Enter Your Password')\n",
    "\n",
    "if username==\"sai\" and pwd==\"123\":\n",
    "    print('welcome',username)\n",
    "else:\n",
    "    print('Invalid Username or password')\n",
    "               "
   ]
  },
  {
   "cell_type": "code",
   "execution_count": null,
   "metadata": {},
   "outputs": [],
   "source": [
    "# Looping Satemants\n",
    "\n",
    "# forloop\n",
    "\n",
    "# While loop\n",
    "\n",
    "# forlopp\n",
    "\n",
    "# c-lang ---> syntax for(i=0;i<=10;i++)\n",
    "\n",
    "# python for loop Syntax--> \n",
    "\n",
    "# for iterable_variable in range(inclisive,exclusive,step)or(start,stop,step):\n",
    "    #print(iterable_variable)\n"
   ]
  },
  {
   "cell_type": "code",
   "execution_count": null,
   "metadata": {},
   "outputs": [],
   "source": [
    "for i in range(11): # 10+1 or 11\n",
    "    print(i)"
   ]
  },
  {
   "cell_type": "code",
   "execution_count": null,
   "metadata": {},
   "outputs": [],
   "source": [
    "for i in range(0,20+1):\n",
    "    print(i, end=\"-->\")"
   ]
  },
  {
   "cell_type": "code",
   "execution_count": null,
   "metadata": {},
   "outputs": [],
   "source": [
    "for i in range(0,100+1):\n",
    "    print(i,end=\"-->\")"
   ]
  },
  {
   "cell_type": "code",
   "execution_count": null,
   "metadata": {},
   "outputs": [],
   "source": [
    "for j in range(100,1,-1):\n",
    "    print(j,end=\"-->\")"
   ]
  },
  {
   "cell_type": "code",
   "execution_count": null,
   "metadata": {},
   "outputs": [],
   "source": [
    "# even numbers in for loop\n",
    "\n",
    "for x in range(0,50,2):\n",
    "    print(x, end=\" \")"
   ]
  },
  {
   "cell_type": "code",
   "execution_count": null,
   "metadata": {},
   "outputs": [],
   "source": [
    "# odd numbers in for loop\n",
    "\n",
    "for y in range(1,50,2):\n",
    "    print(y,end=\" \")"
   ]
  },
  {
   "cell_type": "code",
   "execution_count": null,
   "metadata": {},
   "outputs": [],
   "source": [
    "1 3 5 7 9 11 13 15 17 19 2for z in range(1,50,3):\n",
    "    print(z,end=\" \")"
   ]
  },
  {
   "cell_type": "code",
   "execution_count": null,
   "metadata": {},
   "outputs": [],
   "source": [
    "#task --->Multiplication table\n",
    "\n",
    "# Take input from user--->1,2,3\n",
    "\n",
    "# range 1,10\n",
    "\n",
    " 2*1=2\n",
    "\n",
    "#Task2\n",
    "\n",
    "# take 2 inputs from user\n",
    "\n",
    "# tbale numbers input-->5-->1,2,3,4,5\n",
    "\n",
    "# table range--->10,20\n",
    "\n",
    " 2*1=2\n",
    "    \n",
    "#Task3\n",
    "\n",
    "# take 2 inputs from user\n",
    "\n",
    "# tbale numbers input-->5-->1,2,3,4,5\n",
    "\n",
    "# table range--->10,20\n",
    "\n",
    " 2*1=2\n"
   ]
  },
  {
   "cell_type": "code",
   "execution_count": null,
   "metadata": {},
   "outputs": [],
   "source": [
    "num=int(input('enter table Number:-'))\n",
    "for i in range(1,11):\n",
    "    print(num,'*',i,'=',num*i)"
   ]
  },
  {
   "cell_type": "code",
   "execution_count": null,
   "metadata": {},
   "outputs": [],
   "source": [
    "# While loop\n",
    "\n",
    "# syntax\n",
    "\n",
    " #while condition:\n",
    "       # satements\n"
   ]
  },
  {
   "cell_type": "code",
   "execution_count": null,
   "metadata": {},
   "outputs": [],
   "source": [
    "# by using While to print range of numbers\n",
    "\n",
    "# intlize value\n",
    "\n",
    "# while condition:\n",
    "   # print(value)\n",
    "   # increment value\n",
    "\n",
    "x=1\n",
    "while x<=20:\n",
    "    print(x,end=\" \")\n",
    "    x=x+1"
   ]
  },
  {
   "cell_type": "code",
   "execution_count": null,
   "metadata": {},
   "outputs": [],
   "source": [
    "# By using while number will be reverse\n",
    "\n",
    "y=20\n",
    "\n",
    "while y>=1:\n",
    "    print(y, end=\" \")\n",
    "    y=y-1"
   ]
  },
  {
   "cell_type": "code",
   "execution_count": null,
   "metadata": {},
   "outputs": [],
   "source": [
    "# take input from user\n",
    "# use forloop \n",
    "#print range of even numbers\n",
    "\n",
    "n1=int(input('Enter Even number ranga value'))\n",
    "for x in range(0,n1+1):\n",
    "    if x%2==0:\n",
    "        print(x,end=\" \")"
   ]
  },
  {
   "cell_type": "code",
   "execution_count": null,
   "metadata": {},
   "outputs": [],
   "source": [
    "n1=int(input('Enter Even number range value'))\n",
    "i=1\n",
    "while i<=n1:\n",
    "    if i%2==0:\n",
    "        print(i,end=\" \")\n",
    "    i=i+1"
   ]
  },
  {
   "cell_type": "code",
   "execution_count": null,
   "metadata": {},
   "outputs": [],
   "source": [
    "# using While loop\n",
    "\n",
    "\n",
    "# Find factroial number using loop\n",
    "\n",
    "# find factors in whileloop\n"
   ]
  },
  {
   "cell_type": "code",
   "execution_count": null,
   "metadata": {},
   "outputs": [],
   "source": [
    "# Jumping Stements\n",
    "\n",
    "# break,continue,pass"
   ]
  },
  {
   "cell_type": "code",
   "execution_count": null,
   "metadata": {},
   "outputs": [],
   "source": [
    "c='python python'\n",
    "\n",
    "for i in c:\n",
    "    if i==\"p\":\n",
    "        continue\n",
    "    print(i)"
   ]
  },
  {
   "cell_type": "code",
   "execution_count": null,
   "metadata": {},
   "outputs": [],
   "source": [
    "# Functions\n",
    "\n",
    "# we have two type of functions\n",
    "#1.predefined functions or builtin function\n",
    "#2.userdefined finctions"
   ]
  },
  {
   "cell_type": "code",
   "execution_count": null,
   "metadata": {},
   "outputs": [],
   "source": [
    "# builtin functions\n",
    "\n",
    "print,int,float,boll,sum,bin,type,ord,chr,all,any,zip,round,id,len,pow,min,max,abs,sorted,next,input"
   ]
  },
  {
   "cell_type": "code",
   "execution_count": null,
   "metadata": {},
   "outputs": [],
   "source": [
    "a=[1,2,3,4,5]\n",
    "sum(a)"
   ]
  },
  {
   "cell_type": "code",
   "execution_count": null,
   "metadata": {},
   "outputs": [],
   "source": [
    "bin(1)"
   ]
  },
  {
   "cell_type": "code",
   "execution_count": null,
   "metadata": {},
   "outputs": [],
   "source": [
    "type(a)"
   ]
  },
  {
   "cell_type": "code",
   "execution_count": null,
   "metadata": {},
   "outputs": [],
   "source": [
    "ord('a')"
   ]
  },
  {
   "cell_type": "code",
   "execution_count": null,
   "metadata": {},
   "outputs": [],
   "source": [
    "chr(97)"
   ]
  },
  {
   "cell_type": "code",
   "execution_count": null,
   "metadata": {},
   "outputs": [],
   "source": [
    "b=''\n",
    "any(b)"
   ]
  },
  {
   "cell_type": "code",
   "execution_count": null,
   "metadata": {},
   "outputs": [],
   "source": [
    "all(b)"
   ]
  },
  {
   "cell_type": "code",
   "execution_count": null,
   "metadata": {},
   "outputs": [],
   "source": [
    "round(99.5)"
   ]
  },
  {
   "cell_type": "code",
   "execution_count": null,
   "metadata": {},
   "outputs": [],
   "source": [
    "len(a)"
   ]
  },
  {
   "cell_type": "code",
   "execution_count": null,
   "metadata": {},
   "outputs": [],
   "source": [
    "pow(10,2)"
   ]
  },
  {
   "cell_type": "code",
   "execution_count": null,
   "metadata": {},
   "outputs": [],
   "source": [
    "x='welcome python'\n",
    "min(x)"
   ]
  },
  {
   "cell_type": "code",
   "execution_count": null,
   "metadata": {},
   "outputs": [],
   "source": [
    "max(x)"
   ]
  },
  {
   "cell_type": "code",
   "execution_count": null,
   "metadata": {},
   "outputs": [],
   "source": [
    "abs(-1)"
   ]
  },
  {
   "cell_type": "code",
   "execution_count": null,
   "metadata": {},
   "outputs": [],
   "source": [
    "y='20'\n",
    "sorted(y)"
   ]
  },
  {
   "cell_type": "code",
   "execution_count": null,
   "metadata": {},
   "outputs": [],
   "source": [
    "help()"
   ]
  },
  {
   "cell_type": "code",
   "execution_count": null,
   "metadata": {},
   "outputs": [],
   "source": [
    "#UserDefined Functions\n",
    "\n",
    "# function is an organised bloack of reusable code with a specific name with can be call whenever required\n",
    "\n",
    "# Advantages \n",
    "\n",
    "# Code Reusablity\n",
    "\n",
    "# less time complixity"
   ]
  },
  {
   "cell_type": "markdown",
   "metadata": {},
   "source": [
    "# in python  8 types\n",
    "1. function with arguments with return type\n",
    "2. function with arguments without return type\n",
    "3. no arguments no returntype\n",
    "4. without arguments with return type\n",
    "\n",
    "5. positional argumnnts/requiredarguments\n",
    "6. Keyword arguments\n",
    "7. default arguments\n",
    "8. variable length arguments\n",
    "\n",
    "\n"
   ]
  },
  {
   "cell_type": "code",
   "execution_count": null,
   "metadata": {},
   "outputs": [],
   "source": [
    "# syntax\n",
    "\n",
    "#def functuinname(pameters):\n",
    "#   statemants\n",
    "# callfunction()\n"
   ]
  },
  {
   "cell_type": "code",
   "execution_count": 2,
   "metadata": {},
   "outputs": [
    {
     "name": "stdout",
     "output_type": "stream",
     "text": [
      "welcome\n",
      "hello world\n"
     ]
    }
   ],
   "source": [
    "def myfun():\n",
    "    print('hello world')\n",
    "print('welcome')\n",
    "myfun()"
   ]
  },
  {
   "cell_type": "code",
   "execution_count": 6,
   "metadata": {},
   "outputs": [
    {
     "data": {
      "text/plain": [
       "('addition of two numbers', 60)"
      ]
     },
     "execution_count": 6,
     "metadata": {},
     "output_type": "execute_result"
    }
   ],
   "source": [
    "# function with arguments with returntype\n",
    "\n",
    "def add(a,b):\n",
    "    return ('addition of two numbers',a+b)\n",
    "add(10,50)"
   ]
  },
  {
   "cell_type": "code",
   "execution_count": 7,
   "metadata": {},
   "outputs": [
    {
     "name": "stdout",
     "output_type": "stream",
     "text": [
      "Sub of two numbers -100\n"
     ]
    }
   ],
   "source": [
    "# function with arguments without returntype\n",
    "\n",
    "def sub(a,b):\n",
    "    print('Sub of two numbers',a-b)\n",
    "sub(100,200)"
   ]
  },
  {
   "cell_type": "code",
   "execution_count": 8,
   "metadata": {},
   "outputs": [
    {
     "name": "stdout",
     "output_type": "stream",
     "text": [
      "Mul of two numbers 600\n"
     ]
    }
   ],
   "source": [
    "# without arguments without return type\n",
    "\n",
    "def mul():\n",
    "    a=20\n",
    "    b=30\n",
    "    print('Mul of two numbers',a*b)\n",
    "mul()"
   ]
  },
  {
   "cell_type": "code",
   "execution_count": 9,
   "metadata": {},
   "outputs": [
    {
     "data": {
      "text/plain": [
       "('Division of two numbers', 0.8)"
      ]
     },
     "execution_count": 9,
     "metadata": {},
     "output_type": "execute_result"
    }
   ],
   "source": [
    "# without arguments with return type\n",
    "\n",
    "def div():\n",
    "    a,b=40,50\n",
    "    return ('Division of two numbers',a/b)\n",
    "div()"
   ]
  },
  {
   "cell_type": "code",
   "execution_count": null,
   "metadata": {},
   "outputs": [],
   "source": []
  }
 ],
 "metadata": {
  "kernelspec": {
   "display_name": "Python 3",
   "language": "python",
   "name": "python3"
  },
  "language_info": {
   "codemirror_mode": {
    "name": "ipython",
    "version": 3
   },
   "file_extension": ".py",
   "mimetype": "text/x-python",
   "name": "python",
   "nbconvert_exporter": "python",
   "pygments_lexer": "ipython3",
   "version": "3.8.5"
  }
 },
 "nbformat": 4,
 "nbformat_minor": 4
}
