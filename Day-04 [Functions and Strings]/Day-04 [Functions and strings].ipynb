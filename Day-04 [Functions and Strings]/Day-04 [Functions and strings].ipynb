{
 "cells": [
  {
   "cell_type": "code",
   "execution_count": null,
   "metadata": {},
   "outputs": [],
   "source": [
    "#Agenda of Today :\n",
    "                 1. Function arguments in Python\n",
    "                 2. Strings in Python\n",
    "                 3. Data Structures in Python\n",
    "            "
   ]
  },
  {
   "cell_type": "code",
   "execution_count": null,
   "metadata": {},
   "outputs": [],
   "source": [
    "    what is argument?\n",
    "        what is parameter?\n",
    "          Difference b/w them ?\n",
    "            type of arguements?\n",
    "             What is the use of arguements?\n",
    "                "
   ]
  },
  {
   "cell_type": "code",
   "execution_count": null,
   "metadata": {},
   "outputs": [],
   "source": [
    "#Parameter?\n",
    "A parameter is a named variable passed into a functions.\n",
    "Parameter Variables are used to import arguments into functions.\n",
    "#Argument?\n",
    " Its nothing but passed variable to function which having actual values."
   ]
  },
  {
   "cell_type": "code",
   "execution_count": null,
   "metadata": {},
   "outputs": [],
   "source": [
    "#Difference Notes:\n",
    " 1. Parameters are names listed in the functions defintion.\n",
    " 2. Arguments are the real values passed to the function.\n"
   ]
  },
  {
   "cell_type": "code",
   "execution_count": 1,
   "metadata": {},
   "outputs": [
    {
     "name": "stdout",
     "output_type": "stream",
     "text": [
      "100\n"
     ]
    }
   ],
   "source": [
    "#Example on Arguments?\n",
    "def sumof2(a,b):  #Function declation   #formal parameters\n",
    "    c = a+b\n",
    "    print(c)\n",
    "x = 20\n",
    "y = 80      \n",
    "sumof2(x,y)  #function calling   #x,y are actual parameters"
   ]
  },
  {
   "cell_type": "code",
   "execution_count": null,
   "metadata": {},
   "outputs": [],
   "source": [
    "#Type of Arguments:\n",
    "1. Positional \n",
    "2. Keyword \n",
    "3. Default \n",
    "4. Variable-Length or Arbitary"
   ]
  },
  {
   "cell_type": "code",
   "execution_count": 15,
   "metadata": {},
   "outputs": [
    {
     "name": "stdout",
     "output_type": "stream",
     "text": [
      "Student Name: Surya\n",
      "Student ID: 601\n"
     ]
    }
   ],
   "source": [
    "#Ex: Positonal (Its deal with order of passing arguments)\n",
    "def Student(Name,Id):\n",
    "    print(\"Student Name:\",Name)\n",
    "    print(\"Student ID:\",Id+100)\n",
    "Student(\"Surya\",501)"
   ]
  },
  {
   "cell_type": "code",
   "execution_count": 17,
   "metadata": {},
   "outputs": [
    {
     "name": "stdout",
     "output_type": "stream",
     "text": [
      "Student Name: Surya\n",
      "Student ID: 601\n"
     ]
    }
   ],
   "source": [
    "#Keyword Arguments: (we attached values to specific keywords at function calling)\n",
    "def Student(Name,Id):\n",
    "    print(\"Student Name:\",Name)\n",
    "    print(\"Student ID:\",Id+100)\n",
    "Student(Id=501,Name=\"Surya\")"
   ]
  },
  {
   "cell_type": "code",
   "execution_count": 43,
   "metadata": {},
   "outputs": [
    {
     "name": "stdout",
     "output_type": "stream",
     "text": [
      "Student Name: Aditya\n",
      "Student ID: 601\n"
     ]
    }
   ],
   "source": [
    "#Default Arguements: (We fixed the values of arguments defaultly at function calling)\n",
    "def Student(Name,Id=501):\n",
    "    print(\"Student Name:\",Name)\n",
    "    print(\"Student ID:\",Id+100)\n",
    "Student(\"Aditya\")"
   ]
  },
  {
   "cell_type": "code",
   "execution_count": 40,
   "metadata": {},
   "outputs": [
    {
     "name": "stdout",
     "output_type": "stream",
     "text": [
      "10\n",
      "(20, 30, 40, 50, 60, 70, 80, 90)\n",
      "450\n"
     ]
    }
   ],
   "source": [
    "#Variable-Length Arguments or arbitary:  (We when deal with Single Varaible with multiple Values)\n",
    "def DoSum(a, *B):\n",
    "    print(a)\n",
    "    print(B)\n",
    "    c = a\n",
    "    for i in B:\n",
    "        c = c+i\n",
    "    print(c)\n",
    "DoSum(10,20,30,40,50,60,70,80,90)"
   ]
  },
  {
   "cell_type": "code",
   "execution_count": 39,
   "metadata": {},
   "outputs": [
    {
     "name": "stdout",
     "output_type": "stream",
     "text": [
      "450\n"
     ]
    }
   ],
   "source": [
    "def DoSum(*B):  #Arbitary arguement\n",
    "    c = 0\n",
    "    for i in B:\n",
    "        c = c+i\n",
    "    print(c)\n",
    "DoSum(10,20,30,40,50,60,70,80,90)"
   ]
  },
  {
   "cell_type": "code",
   "execution_count": 41,
   "metadata": {},
   "outputs": [
    {
     "name": "stdout",
     "output_type": "stream",
     "text": [
      "('Dhoni', 'Bumrah', 'Kohli', 'Rohit', 'Dhawan', 'Pant')\n"
     ]
    }
   ],
   "source": [
    "#Ex: arbitary Arguments:\n",
    "def IndianTeam(*Players):\n",
    "    print(Players)\n",
    "\n",
    "IndianTeam(\"Dhoni\",\"Bumrah\",\"Kohli\",\"Rohit\",\"Dhawan\",\"Pant\")"
   ]
  },
  {
   "cell_type": "code",
   "execution_count": 44,
   "metadata": {},
   "outputs": [],
   "source": [
    "#Strings in Python:\n",
    "\n",
    "A string is a Sequence of Unicode characters."
   ]
  },
  {
   "cell_type": "code",
   "execution_count": null,
   "metadata": {},
   "outputs": [],
   "source": [
    "#Encoding - Conversion of character to number (0,1)\n",
    "#Decoding - Conversion of number(0,1) to character\n",
    "   In this process they follow some conversion formats:\n",
    "         1. Ascii\n",
    "         2. Unicode       "
   ]
  },
  {
   "cell_type": "code",
   "execution_count": 56,
   "metadata": {},
   "outputs": [
    {
     "name": "stdout",
     "output_type": "stream",
     "text": [
      "Today\n",
      "Tomorrow\n",
      "Hello everyone this program about demo function \n",
      "            in python programming\n",
      "              from APSSDC \n",
      "python\n"
     ]
    }
   ],
   "source": [
    "#How to create a string in python?\n",
    "#- Strings are created by enclosing any characters inside a single or double-quotes\n",
    "#- Even we may use triple quotes also they called as doctstring or muliple string\n",
    "    \n",
    "s = \"Today\"\n",
    "s1 = 'Tomorrow'\n",
    "s2 = \"\"\"Hello everyone this program about demo function \n",
    "            in python programming\n",
    "              from APSSDC \"\"\"\n",
    "print(s)\n",
    "print(s1)\n",
    "print(s2)\n",
    "print(str)"
   ]
  },
  {
   "cell_type": "code",
   "execution_count": 52,
   "metadata": {},
   "outputs": [
    {
     "name": "stdout",
     "output_type": "stream",
     "text": [
      "Hello IIIT Students\n"
     ]
    }
   ],
   "source": [
    "def demo():\n",
    "    \"\"\"Hello everyone this program about demo function \n",
    "            in python programming\n",
    "              from APSSDC \"\"\"              #Doc string or Multiline string\n",
    "    print(\"Hello IIIT Students\")\n",
    "demo()"
   ]
  },
  {
   "cell_type": "code",
   "execution_count": 60,
   "metadata": {},
   "outputs": [
    {
     "data": {
      "text/plain": [
       "' '"
      ]
     },
     "execution_count": 60,
     "metadata": {},
     "output_type": "execute_result"
    }
   ],
   "source": [
    "#Empty string\n",
    "s3 = \" \"\n",
    "s3"
   ]
  },
  {
   "cell_type": "code",
   "execution_count": null,
   "metadata": {},
   "outputs": [],
   "source": [
    "#How to Access characters in string:\n",
    "(By using Indexing and Slicing and Loops)"
   ]
  },
  {
   "cell_type": "code",
   "execution_count": 81,
   "metadata": {},
   "outputs": [
    {
     "name": "stdout",
     "output_type": "stream",
     "text": [
      "p\n",
      "g\n",
      "n\n"
     ]
    }
   ],
   "source": [
    "s1 = \"programming\"  #index range (0 to n-1)\n",
    "print(s1[0])   #Positive (left to right)\n",
    "print(s1[-1])  #Negative (Right to left)\n",
    "print(s1[-2])"
   ]
  },
  {
   "cell_type": "code",
   "execution_count": 78,
   "metadata": {},
   "outputs": [
    {
     "name": "stdout",
     "output_type": "stream",
     "text": [
      "a\n",
      " \n"
     ]
    }
   ],
   "source": [
    "print(s1[5])\n",
    "print(s1[14])"
   ]
  },
  {
   "cell_type": "code",
   "execution_count": 79,
   "metadata": {},
   "outputs": [
    {
     "data": {
      "text/plain": [
       "15"
      ]
     },
     "execution_count": 79,
     "metadata": {},
     "output_type": "execute_result"
    }
   ],
   "source": [
    "len(s1)"
   ]
  },
  {
   "cell_type": "code",
   "execution_count": 92,
   "metadata": {},
   "outputs": [
    {
     "name": "stdout",
     "output_type": "stream",
     "text": [
      "p*r*o*g*r*a*m*m*i*n*g*"
     ]
    }
   ],
   "source": [
    "#Slicing: \n",
    "s1 = \"programming\"\n",
    "#print(s1[0:5])  #Positive Slicing\n",
    "#print(s1[3:11])\n",
    "#print(s1[-5:-1])\n",
    "#print(s1[-11:-3])  #Negative Slicing\n",
    "for ch in s1:\n",
    "    print(ch,end=\"*\")"
   ]
  },
  {
   "cell_type": "code",
   "execution_count": 95,
   "metadata": {},
   "outputs": [
    {
     "name": "stdout",
     "output_type": "stream",
     "text": [
      "programming\n",
      "gnimmargorp\n"
     ]
    }
   ],
   "source": [
    "s1 = \"programming\"\n",
    "print(s1)\n",
    "print(s1[::-1])   #reverse the string"
   ]
  },
  {
   "cell_type": "code",
   "execution_count": 102,
   "metadata": {},
   "outputs": [
    {
     "name": "stdout",
     "output_type": "stream",
     "text": [
      "16\n",
      "APSSDC\n",
      "Workshops\n"
     ]
    }
   ],
   "source": [
    "s = \"APSSDC Workshops\"\n",
    "#slcing : to get the range or group of required character in a string\n",
    "print(len(s))\n",
    "print(s[0:6])\n",
    "print(s[7:16])"
   ]
  },
  {
   "cell_type": "code",
   "execution_count": 115,
   "metadata": {},
   "outputs": [
    {
     "ename": "TypeError",
     "evalue": "'str' object does not support item assignment",
     "output_type": "error",
     "traceback": [
      "\u001b[1;31m---------------------------------------------------------------------------\u001b[0m",
      "\u001b[1;31mTypeError\u001b[0m                                 Traceback (most recent call last)",
      "\u001b[1;32m<ipython-input-115-a86e2bd0b22d>\u001b[0m in \u001b[0;36m<module>\u001b[1;34m\u001b[0m\n\u001b[0;32m      3\u001b[0m \u001b[0ms1\u001b[0m \u001b[1;33m=\u001b[0m \u001b[1;34m\"Coding is fun\"\u001b[0m\u001b[1;33m\u001b[0m\u001b[1;33m\u001b[0m\u001b[0m\n\u001b[0;32m      4\u001b[0m \u001b[0mlen\u001b[0m\u001b[1;33m(\u001b[0m\u001b[0ms1\u001b[0m\u001b[1;33m)\u001b[0m\u001b[1;33m\u001b[0m\u001b[1;33m\u001b[0m\u001b[0m\n\u001b[1;32m----> 5\u001b[1;33m \u001b[0ms1\u001b[0m\u001b[1;33m[\u001b[0m\u001b[1;36m0\u001b[0m\u001b[1;33m]\u001b[0m\u001b[1;33m=\u001b[0m\u001b[1;34m\"E\"\u001b[0m\u001b[1;33m\u001b[0m\u001b[1;33m\u001b[0m\u001b[0m\n\u001b[0m",
      "\u001b[1;31mTypeError\u001b[0m: 'str' object does not support item assignment"
     ]
    }
   ],
   "source": [
    "#How to change or delete a string ?\n",
    "#Note: Strings are Immutable(Not changable) so we cant change or resign to string characters.\n",
    "s1 = \"Coding is fun\"\n",
    "len(s1)\n",
    "s1[0]=\"E\""
   ]
  },
  {
   "cell_type": "code",
   "execution_count": 117,
   "metadata": {},
   "outputs": [],
   "source": [
    "del s1"
   ]
  },
  {
   "cell_type": "code",
   "execution_count": 118,
   "metadata": {},
   "outputs": [
    {
     "ename": "NameError",
     "evalue": "name 's1' is not defined",
     "output_type": "error",
     "traceback": [
      "\u001b[1;31m---------------------------------------------------------------------------\u001b[0m",
      "\u001b[1;31mNameError\u001b[0m                                 Traceback (most recent call last)",
      "\u001b[1;32m<ipython-input-118-d0257f733e5e>\u001b[0m in \u001b[0;36m<module>\u001b[1;34m\u001b[0m\n\u001b[1;32m----> 1\u001b[1;33m \u001b[0ms1\u001b[0m\u001b[1;33m\u001b[0m\u001b[1;33m\u001b[0m\u001b[0m\n\u001b[0m",
      "\u001b[1;31mNameError\u001b[0m: name 's1' is not defined"
     ]
    }
   ],
   "source": [
    "s1"
   ]
  },
  {
   "cell_type": "code",
   "execution_count": 125,
   "metadata": {},
   "outputs": [
    {
     "name": "stdout",
     "output_type": "stream",
     "text": [
      "123456*@+_)&\n",
      "<class 'str'>\n",
      "<class 'int'>\n"
     ]
    }
   ],
   "source": [
    "#Python String Operations:\n",
    "#(Concatenation and Multiplication..etc)\n",
    "s = \"123456*@+_)&\"\n",
    "s1 = 12345\n",
    "print(s)\n",
    "print(type(s))\n",
    "print(type(s1))"
   ]
  },
  {
   "cell_type": "code",
   "execution_count": 137,
   "metadata": {},
   "outputs": [
    {
     "name": "stdout",
     "output_type": "stream",
     "text": [
      "str1 + str2 =  IIIT  CSE STUDENTS\n",
      "IIIT IIIT IIIT IIIT IIIT 100  CSE STUDENTS CSE STUDENTS CSE STUDENTS CSE STUDENTS CSE STUDENTS\n"
     ]
    }
   ],
   "source": [
    "#Concatenation and Muliplication( +,*)\n",
    "str1 = \"IIIT \"\n",
    "str2 = \" CSE STUDENTS\"\n",
    "print(\"str1 + str2 = \",str1+str2)\n",
    "print(str1*5 + \"100\"+\" \"+ str2*5)"
   ]
  },
  {
   "cell_type": "code",
   "execution_count": 144,
   "metadata": {},
   "outputs": [
    {
     "name": "stdout",
     "output_type": "stream",
     "text": [
      "3\n"
     ]
    }
   ],
   "source": [
    "#Iterating through a string:\n",
    "count = 0\n",
    "s1 = \"Hello IIIT\"\n",
    "for letter in s1:\n",
    "    if letter == \"I\":\n",
    "        count = count+1    #count +=1\n",
    "print(count)"
   ]
  },
  {
   "cell_type": "code",
   "execution_count": 149,
   "metadata": {},
   "outputs": [
    {
     "data": {
      "text/plain": [
       "True"
      ]
     },
     "execution_count": 149,
     "metadata": {},
     "output_type": "execute_result"
    }
   ],
   "source": [
    "#Membership Test : (in, not in)\n",
    "s1 = \"Hello IIIT\"\n",
    "\"H\" in s1\n",
    "\"Y\" in s1\n",
    "\"Hello\" not in s1\n",
    "\"Hello\"  in s1\n",
    "\"A\" in \"APSSDC\""
   ]
  },
  {
   "cell_type": "code",
   "execution_count": 152,
   "metadata": {},
   "outputs": [
    {
     "name": "stdout",
     "output_type": "stream",
     "text": [
      "['__add__', '__class__', '__contains__', '__delattr__', '__dir__', '__doc__', '__eq__', '__format__', '__ge__', '__getattribute__', '__getitem__', '__getnewargs__', '__gt__', '__hash__', '__init__', '__init_subclass__', '__iter__', '__le__', '__len__', '__lt__', '__mod__', '__mul__', '__ne__', '__new__', '__reduce__', '__reduce_ex__', '__repr__', '__rmod__', '__rmul__', '__setattr__', '__sizeof__', '__str__', '__subclasshook__', 'capitalize', 'casefold', 'center', 'count', 'encode', 'endswith', 'expandtabs', 'find', 'format', 'format_map', 'index', 'isalnum', 'isalpha', 'isascii', 'isdecimal', 'isdigit', 'isidentifier', 'islower', 'isnumeric', 'isprintable', 'isspace', 'istitle', 'isupper', 'join', 'ljust', 'lower', 'lstrip', 'maketrans', 'partition', 'replace', 'rfind', 'rindex', 'rjust', 'rpartition', 'rsplit', 'rstrip', 'split', 'splitlines', 'startswith', 'strip', 'swapcase', 'title', 'translate', 'upper', 'zfill'] "
     ]
    }
   ],
   "source": [
    "#String Methods:\n",
    "print(dir(str),end=\" \")"
   ]
  },
  {
   "cell_type": "code",
   "execution_count": null,
   "metadata": {},
   "outputs": [],
   "source": []
  }
 ],
 "metadata": {
  "kernelspec": {
   "display_name": "Python 3",
   "language": "python",
   "name": "python3"
  },
  "language_info": {
   "codemirror_mode": {
    "name": "ipython",
    "version": 3
   },
   "file_extension": ".py",
   "mimetype": "text/x-python",
   "name": "python",
   "nbconvert_exporter": "python",
   "pygments_lexer": "ipython3",
   "version": "3.7.3"
  }
 },
 "nbformat": 4,
 "nbformat_minor": 2
}
