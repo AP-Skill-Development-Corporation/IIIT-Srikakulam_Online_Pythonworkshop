{
 "cells": [
  {
   "cell_type": "markdown",
   "metadata": {},
   "source": [
    "## Keywords in Python\n",
    "\n",
    "+ Keywords are reserved words in Python that are used to trigger specific tasks. We cannot use a keyword as a variable name, function name\n",
    "+ All of the keywords in Python are lowercase.\n",
    "\n",
    "## Variable Decleration\n",
    "\n",
    "1. Basically, a variable is used to store a value. You can think of a variable as storage that has a name and stores some value.\n",
    "\n",
    "\n",
    "### Variable Rules Of Python\n",
    "\n",
    "\n",
    "+ How to Store Single value in multiple Variables\n",
    "\n",
    "+ How to Store Multivalues in Multiple Variables\n",
    "\n",
    "## Python Operators\n",
    "\n",
    "\n",
    "## Comments in Python\n",
    "\n",
    "## Python Datatypes\n",
    "    . Numbers\n",
    "\t. Boolean\n",
    "\t. String\n",
    "\t. List\n",
    "\t. Tuple\n",
    "\t. Dictionary\n",
    "\t. Set\n",
    "## Conditional Statements"
   ]
  },
  {
   "cell_type": "code",
   "execution_count": null,
   "metadata": {},
   "outputs": [],
   "source": [
    "help()"
   ]
  },
  {
   "cell_type": "code",
   "execution_count": 8,
   "metadata": {},
   "outputs": [
    {
     "data": {
      "text/plain": [
       "['False',\n",
       " 'None',\n",
       " 'True',\n",
       " 'and',\n",
       " 'as',\n",
       " 'assert',\n",
       " 'async',\n",
       " 'await',\n",
       " 'break',\n",
       " 'class',\n",
       " 'continue',\n",
       " 'def',\n",
       " 'del',\n",
       " 'elif',\n",
       " 'else',\n",
       " 'except',\n",
       " 'finally',\n",
       " 'for',\n",
       " 'from',\n",
       " 'global',\n",
       " 'if',\n",
       " 'import',\n",
       " 'in',\n",
       " 'is',\n",
       " 'lambda',\n",
       " 'nonlocal',\n",
       " 'not',\n",
       " 'or',\n",
       " 'pass',\n",
       " 'raise',\n",
       " 'return',\n",
       " 'try',\n",
       " 'while',\n",
       " 'with',\n",
       " 'yield']"
      ]
     },
     "execution_count": 8,
     "metadata": {},
     "output_type": "execute_result"
    }
   ],
   "source": [
    "import keyword\n",
    "keyword.kwlist"
   ]
  },
  {
   "cell_type": "code",
   "execution_count": 17,
   "metadata": {},
   "outputs": [],
   "source": [
    "# Single value in mutilple variables\n",
    "a=b=c=d=10"
   ]
  },
  {
   "cell_type": "code",
   "execution_count": 23,
   "metadata": {},
   "outputs": [],
   "source": [
    "# Multivalues in mutiple variables\n",
    "a,b,c,d=10,100,200,300"
   ]
  },
  {
   "cell_type": "code",
   "execution_count": null,
   "metadata": {},
   "outputs": [],
   "source": [
    "#Python Operators\n",
    "\n",
    "# Athematic operator---> (+,-,*,/,%,//,**)\n",
    "# Relational Operator/Comparision Operator--->(>,<,<=,>=,==,!=)\n",
    "# Assignment Operator(+=,-=,*=,**=,//=,/=,%=)\n",
    "# Logical Opertor( and,or not)\n",
    "# Bitwise Operator(&,|,^,>>,<<)\n",
    "# MembershipOperator (in, not in)\n",
    "# Identity Operartor(is, is not)"
   ]
  },
  {
   "cell_type": "code",
   "execution_count": 31,
   "metadata": {},
   "outputs": [
    {
     "name": "stdout",
     "output_type": "stream",
     "text": [
      "300\n",
      "-100\n",
      "20000\n",
      "0.5\n",
      "100\n",
      "0\n",
      "10000000000000000000000000000000000000000000000000000000000000000000000000000000000000000000000000000000000000000000000000000000000000000000000000000000000000000000000000000000000000000000000000000000000000000000000000000000000000000000000000000000000000000000000000000000000000000000000000000000000000000000000000000000000000000000000000000000000000000000000000000000000000000000000000000000000000000\n"
     ]
    },
    {
     "data": {
      "text/plain": [
       "10000000000"
      ]
     },
     "execution_count": 31,
     "metadata": {},
     "output_type": "execute_result"
    }
   ],
   "source": [
    "x=100\n",
    "y=200\n",
    "print(x+y)\n",
    "print(x-y)\n",
    "print(x*y)\n",
    "print(x/y)\n",
    "print(x%y)\n",
    "print(x//y)\n",
    "print(x**y)\n",
    "pow(10,10)"
   ]
  },
  {
   "cell_type": "code",
   "execution_count": 34,
   "metadata": {},
   "outputs": [
    {
     "name": "stdout",
     "output_type": "stream",
     "text": [
      "False\n",
      "True\n",
      "False\n",
      "True\n",
      "False\n",
      "True\n"
     ]
    }
   ],
   "source": [
    "x=50\n",
    "y=100\n",
    "print(x>y)\n",
    "print(x<y)\n",
    "print(x==y)\n",
    "print(x!=y)\n",
    "print(x>=y)\n",
    "print(x<=y)"
   ]
  },
  {
   "cell_type": "code",
   "execution_count": 40,
   "metadata": {},
   "outputs": [
    {
     "name": "stdout",
     "output_type": "stream",
     "text": [
      "0.0\n"
     ]
    }
   ],
   "source": [
    "# Assignment\n",
    "p=10\n",
    "p+=40\n",
    "p-=20\n",
    "p*=3\n",
    "p/=10\n",
    "p//=3\n",
    "p%=1\n",
    "print(p)"
   ]
  },
  {
   "cell_type": "code",
   "execution_count": 41,
   "metadata": {},
   "outputs": [
    {
     "name": "stdout",
     "output_type": "stream",
     "text": [
      "False\n",
      "False\n",
      "False\n",
      "True\n"
     ]
    }
   ],
   "source": [
    "# Logical operator\n",
    "\n",
    "print(False and False)\n",
    "\n",
    "print(False and True)\n",
    "\n",
    "print(True and False)\n",
    "\n",
    "print(True and True)"
   ]
  },
  {
   "cell_type": "code",
   "execution_count": 42,
   "metadata": {},
   "outputs": [
    {
     "name": "stdout",
     "output_type": "stream",
     "text": [
      "False\n",
      "True\n",
      "True\n",
      "True\n"
     ]
    }
   ],
   "source": [
    "print(False or False)\n",
    "\n",
    "print(False or True)\n",
    "\n",
    "print(True or False)\n",
    "\n",
    "print(True or True)"
   ]
  },
  {
   "cell_type": "code",
   "execution_count": 43,
   "metadata": {},
   "outputs": [
    {
     "name": "stdout",
     "output_type": "stream",
     "text": [
      "True\n",
      "True\n",
      "True\n",
      "False\n"
     ]
    }
   ],
   "source": [
    "print(not(False and False))\n",
    "\n",
    "print(not(False and True))\n",
    "\n",
    "print(not(True and False))\n",
    "\n",
    "print(not(True and True))"
   ]
  },
  {
   "cell_type": "code",
   "execution_count": 44,
   "metadata": {},
   "outputs": [
    {
     "name": "stdout",
     "output_type": "stream",
     "text": [
      "True\n",
      "False\n",
      "False\n",
      "False\n"
     ]
    }
   ],
   "source": [
    "print(not(False or False))\n",
    "\n",
    "print(not(False or True))\n",
    "\n",
    "print(not(True or False))\n",
    "\n",
    "print(not(True or True))"
   ]
  },
  {
   "cell_type": "code",
   "execution_count": 46,
   "metadata": {},
   "outputs": [
    {
     "name": "stdout",
     "output_type": "stream",
     "text": [
      "False\n",
      "True\n",
      "True\n"
     ]
    }
   ],
   "source": [
    "p=40\n",
    "q=70\n",
    "\n",
    "print(p>q and p<q)\n",
    "\n",
    "print(p==q or p!=q)\n",
    "\n",
    "print(not(p<q and p>q))"
   ]
  },
  {
   "cell_type": "code",
   "execution_count": 51,
   "metadata": {},
   "outputs": [
    {
     "name": "stdout",
     "output_type": "stream",
     "text": [
      "0b101\n",
      "0b11\n",
      "1\n",
      "7\n",
      "6\n"
     ]
    }
   ],
   "source": [
    "# Bit wise operators\n",
    "\n",
    "x=5\n",
    "y=3\n",
    "\n",
    "print(bin(5))\n",
    "print(bin(3))\n",
    "print(x&y)\n",
    "print(x|y)\n",
    "print(x^y)"
   ]
  },
  {
   "cell_type": "code",
   "execution_count": 59,
   "metadata": {},
   "outputs": [
    {
     "data": {
      "text/plain": [
       "True"
      ]
     },
     "execution_count": 59,
     "metadata": {},
     "output_type": "execute_result"
    }
   ],
   "source": [
    "# Menmbership Operator # in not in\n",
    "\n",
    "c=\"welcome to python workshop \"\n",
    "\n",
    "'to' in c\n",
    "\n",
    "'too' in c\n",
    "\n",
    "'python' not in c\n",
    "\n",
    "'python  work' not in c"
   ]
  },
  {
   "cell_type": "code",
   "execution_count": 62,
   "metadata": {
    "scrolled": true
   },
   "outputs": [
    {
     "name": "stdout",
     "output_type": "stream",
     "text": [
      "True\n",
      "False\n"
     ]
    }
   ],
   "source": [
    "# Identity operators\n",
    "\n",
    "# is is not\n",
    "\n",
    "x='hello'\n",
    "\n",
    "y='hello'\n",
    "\n",
    "\n",
    "print(x is y) ==\n",
    "\n",
    "print( x is not y)!=\n"
   ]
  },
  {
   "cell_type": "code",
   "execution_count": null,
   "metadata": {},
   "outputs": [],
   "source": [
    " # Siongle line comment use # symbol\n",
    "\n",
    "    # Multiline comment\n",
    "\"\"\"dsgfdhsgfmnhmghmgj,\"\"\" or''' gfcyufyviuguigvihvhvc'''"
   ]
  },
  {
   "cell_type": "code",
   "execution_count": 63,
   "metadata": {},
   "outputs": [
    {
     "name": "stdout",
     "output_type": "stream",
     "text": [
      "300\n"
     ]
    }
   ],
   "source": [
    "# static variables\n",
    "a=100\n",
    "b=200\n",
    "print(a+b)"
   ]
  },
  {
   "cell_type": "code",
   "execution_count": 67,
   "metadata": {},
   "outputs": [
    {
     "name": "stdout",
     "output_type": "stream",
     "text": [
      "enter a value:-100\n",
      "entrt b value:-200\n",
      "Addition of 100 + 200 = 300\n",
      "Substraction of 100 - 200 = -100\n",
      "Multiplication of 100*200=20000\n"
     ]
    }
   ],
   "source": [
    "# Dynamic variables \n",
    "\n",
    "# input\n",
    "\n",
    "# take 2 inputs from user a,b\n",
    "\n",
    "# addition of 100 + 200 = 300----->comma sepration,formatspecifier,formatmethod\n",
    "\n",
    "a=int(input('enter a value:-'))\n",
    "b=int(input('entrt b value:-'))\n",
    "\n",
    "print('Addition of',a,'+',b,'=',a+b)\n",
    "\n",
    "print('Substraction of %d - %d = %d'%(a,b,a-b))\n",
    "\n",
    "print('Multiplication of {0}*{1}={2}'.format(a,b,a*b))\n"
   ]
  },
  {
   "cell_type": "markdown",
   "metadata": {},
   "source": [
    "# Conditional Statements\n",
    "\n",
    "+ if\n",
    "\n",
    "+ elif \n",
    "\n",
    "+ else\n",
    "\n",
    "## Conditional statements Syntax\n",
    "\n",
    "if condition(): like if,elif,else,for,while,def\n",
    "  statements \n",
    "  \n",
    "elif condition():\n",
    "    statemnts\n",
    "    \n",
    "elif condition():\n",
    "    statemnts\n",
    "    \n",
    "else:\n",
    "    satenents"
   ]
  },
  {
   "cell_type": "code",
   "execution_count": 68,
   "metadata": {},
   "outputs": [
    {
     "name": "stdout",
     "output_type": "stream",
     "text": [
      "enter the value:10\n",
      "10 is an even number\n"
     ]
    }
   ],
   "source": [
    "# Check given number even or odd using conditional statement\n",
    "\n",
    "x=int(input('enter the value:'))\n",
    "\n",
    "if (x%2==0):\n",
    "    print(x,'is an even number')\n",
    "else:\n",
    "    print(x,'is an odd number')"
   ]
  },
  {
   "cell_type": "code",
   "execution_count": null,
   "metadata": {},
   "outputs": [],
   "source": []
  }
 ],
 "metadata": {
  "kernelspec": {
   "display_name": "Python 3",
   "language": "python",
   "name": "python3"
  },
  "language_info": {
   "codemirror_mode": {
    "name": "ipython",
    "version": 3
   },
   "file_extension": ".py",
   "mimetype": "text/x-python",
   "name": "python",
   "nbconvert_exporter": "python",
   "pygments_lexer": "ipython3",
   "version": "3.8.5"
  }
 },
 "nbformat": 4,
 "nbformat_minor": 4
}
